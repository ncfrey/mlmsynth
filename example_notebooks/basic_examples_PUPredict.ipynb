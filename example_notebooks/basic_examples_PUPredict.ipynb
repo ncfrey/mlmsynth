{
  "nbformat": 4,
  "nbformat_minor": 0,
  "metadata": {
    "kernelspec": {
      "display_name": "pu_env",
      "language": "python",
      "name": "pu_env"
    },
    "language_info": {
      "codemirror_mode": {
        "name": "ipython",
        "version": 3
      },
      "file_extension": ".py",
      "mimetype": "text/x-python",
      "name": "python",
      "nbconvert_exporter": "python",
      "pygments_lexer": "ipython3",
      "version": "3.6.8"
    },
    "colab": {
      "name": "basic_examples_PUPredict.ipynb",
      "provenance": []
    }
  },
  "cells": [
    {
      "cell_type": "markdown",
      "metadata": {
        "id": "kxHGHkxAluRg"
      },
      "source": [
        "*pumml* Predict Example Jupyter Notebook\n",
        "This notebook shows how to\n",
        "* Feed valid and possible inputs to the model .\n",
        "* Run the pumml implementation of PU learning and predict \"synthesizability scores\" for the give inputs.\n",
        "* Interpret the results in the right way"
      ]
    },
    {
      "cell_type": "markdown",
      "metadata": {
        "id": "bzMtxmRkluSL"
      },
      "source": [
        "### Import the neccesary libraries"
      ]
    },
    {
      "cell_type": "code",
      "metadata": {
        "id": "Sk20_mwkluSY"
      },
      "source": [
        "import pandas as pd\n",
        "import numpy as np\n",
        "\n",
        "from monty.serialization import loadfn, dumpfn\n",
        "\n",
        "from pymatgen.ext.matproj import MPRester\n",
        "\n",
        "from pymatgen import Composition\n",
        "import json\n",
        "from pymatgen import Structure, Lattice\n",
        "from pumml.learners import PULearner\n",
        "from matminer.featurizers.structure import DensityFeatures, GlobalSymmetryFeatures\n",
        "from matminer.featurizers.composition import Meredig, CohesiveEnergy\n",
        "import pumml"
      ],
      "execution_count": null,
      "outputs": []
    },
    {
      "cell_type": "code",
      "metadata": {
        "id": "OPhFC-Ixp9hG"
      },
      "source": [
        "from pumml.learners import PUPredict\n",
        "# PUPredict fetches material specific properties from Materials project Database.\n",
        "# To estabilish the connection between Material Project and PUPredict, user needs to have an api_key\n",
        "# If you don't have an api_key, you can get it from https://docs.materialsproject.org/open-apis/the-materials-api/ "
      ],
      "execution_count": null,
      "outputs": []
    },
    {
      "cell_type": "markdown",
      "metadata": {
        "id": "4AJQRfRDluSy"
      },
      "source": [
        "\n",
        "### Input as Materials Project - ID\n",
        "Take any random 'Mp-ID' as an input for the fucntion and run the material_id attribute under PUPredict to get synthesizability scores."
      ]
    },
    {
      "cell_type": "code",
      "metadata": {
        "id": "fLth6xn4vdeZ",
        "outputId": "58418b82-2d3c-44ef-c355-8c3c59a5dc76",
        "colab": {
          "base_uri": "https://localhost:8080/",
          "height": 108
        }
      },
      "source": [
        "PU=PUPredict()\n",
        "PU.material_id('mp-1213718',api_key) #An Experimental F-Block Compound"
      ],
      "execution_count": null,
      "outputs": [
        {
          "output_type": "stream",
          "text": [
            "Connection established to Materials Project database, version 2020_09_08.\n",
            "Connection established to Materials Project database, version 2020_09_08.\n",
            "Connection established to Materials Project database, version 2020_09_08.\n",
            "Connection established to Materials Project database, version 2020_09_08.\n"
          ],
          "name": "stdout"
        },
        {
          "output_type": "execute_result",
          "data": {
            "text/plain": [
              "[array([0.37218361])]"
            ]
          },
          "metadata": {
            "tags": []
          },
          "execution_count": 9
        }
      ]
    },
    {
      "cell_type": "markdown",
      "metadata": {
        "id": "fbLBcklXsHcT"
      },
      "source": [
        "The output '0.37218361' represents the synthesizability score of the compound 'mp-1213718'"
      ]
    },
    {
      "cell_type": "markdown",
      "metadata": {
        "id": "dFt1vv_YluTo"
      },
      "source": [
        "### Input as Full Formula\n",
        "Take any random Full Formula as an input for the fucntion and run the full_formula attribute under PUPredict to get synthesizability scores. Please note that formula should be in string format and contain elements from Periodic Table"
      ]
    },
    {
      "cell_type": "code",
      "metadata": {
        "id": "A7XE6ujN4D7X",
        "outputId": "2785c249-1476-48b2-e932-f6c9570e0257",
        "colab": {
          "base_uri": "https://localhost:8080/",
          "height": 54
        }
      },
      "source": [
        "PU.full_formula('Na1Mg1', api_key) #A compound which is not known to exist"
      ],
      "execution_count": null,
      "outputs": [
        {
          "output_type": "stream",
          "text": [
            "Connection established to Materials Project database, version 2020_09_08.\n"
          ],
          "name": "stdout"
        },
        {
          "output_type": "execute_result",
          "data": {
            "application/vnd.google.colaboratory.intrinsic+json": {
              "type": "string"
            },
            "text/plain": [
              "'No such compound exists in Materials Project Database'"
            ]
          },
          "metadata": {
            "tags": []
          },
          "execution_count": 10
        }
      ]
    },
    {
      "cell_type": "code",
      "metadata": {
        "id": "3YnYAebBB09D",
        "outputId": "31f78274-1380-4406-d15f-55b517b8ddcc",
        "colab": {
          "base_uri": "https://localhost:8080/",
          "height": 90
        }
      },
      "source": [
        "PU.full_formula('Ba2Yb2Al4Si2N10O4', api_key) #A random F-BLock compound"
      ],
      "execution_count": null,
      "outputs": [
        {
          "output_type": "stream",
          "text": [
            "Connection established to Materials Project database, version 2020_09_08.\n",
            "Connection established to Materials Project database, version 2020_09_08.\n",
            "Connection established to Materials Project database, version 2020_09_08.\n"
          ],
          "name": "stdout"
        },
        {
          "output_type": "execute_result",
          "data": {
            "text/plain": [
              "[array([0.04694946]), array([0.04952542])]"
            ]
          },
          "metadata": {
            "tags": []
          },
          "execution_count": 11
        }
      ]
    },
    {
      "cell_type": "markdown",
      "metadata": {
        "id": "Yf08F199tAl8"
      },
      "source": [
        "Note that there are two scores here. This shows that compound 'Ba2Yb2Al4Si2N10O4' exists in two different forms here, i.e Polymorphism"
      ]
    },
    {
      "cell_type": "markdown",
      "metadata": {
        "id": "4kjbKrcTwDrP"
      },
      "source": [
        "### Input as Pymatgen Structure\n",
        "Make a pymatgen structure using pymatgen libraries. Pass the structure as input to 'pymatgen_structure' attribute under PUPredict to get synthesizability scores. For more information on pymatgen, please visit https://pymatgen.org/ "
      ]
    },
    {
      "cell_type": "code",
      "metadata": {
        "id": "WZyAe8X_xFfs"
      },
      "source": [
        "bcc_fe = Structure(Lattice.cubic(2.8), [\"Fe\", \"Fe\"], [[0, 0, 0], [0.5, 0.5, 0.5]])"
      ],
      "execution_count": null,
      "outputs": []
    },
    {
      "cell_type": "code",
      "metadata": {
        "id": "_RU9p4lIt8BE",
        "outputId": "a3513885-b3a7-4f44-dcc2-a66ba4853459",
        "colab": {
          "base_uri": "https://localhost:8080/",
          "height": 35
        }
      },
      "source": [
        "type(bcc_fe)"
      ],
      "execution_count": null,
      "outputs": [
        {
          "output_type": "execute_result",
          "data": {
            "text/plain": [
              "pymatgen.core.structure.Structure"
            ]
          },
          "metadata": {
            "tags": []
          },
          "execution_count": 23
        }
      ]
    },
    {
      "cell_type": "code",
      "metadata": {
        "id": "ySQ0HgNaluUJ"
      },
      "source": [
        "PU.pymatgen_structure(bcc_fe, '1t5aOoshT6PFVIb9')"
      ],
      "execution_count": null,
      "outputs": []
    }
  ]
}