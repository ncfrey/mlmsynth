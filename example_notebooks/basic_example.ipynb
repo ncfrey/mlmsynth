{
 "cells": [
  {
   "cell_type": "markdown",
   "metadata": {},
   "source": [
    "## pumml Example Jupyter Notebook\n",
    "This notebook shows how to\n",
    "* Properly format input data in json files for applying PU learning.\n",
    "* Run the pumml implementation of PU learning and predict \"synthesizability scores\" for not-yet-synthesized materials.\n",
    "* Compare synthesizability scores between \"parent\" bulk crystals and \"child\" 2D phases to identify new bulk crystals that can be synthesized and exfoliated into a new 2D material.\n",
    "* Use unsupervised clustering algorithms to analyze results."
   ]
  },
  {
   "cell_type": "code",
   "execution_count": null,
   "metadata": {},
   "outputs": [],
   "source": [
    "import pandas as pd\n",
    "import numpy as np"
   ]
  },
  {
   "cell_type": "markdown",
   "metadata": {},
   "source": [
    "### Take a look at the format of input data.\n",
    "Each row corresponds to a material and each column is a feature from either elemental data or density functional theory calculations.\n",
    "There **must** be a column called \"PU_label\" that labels each material as positive/synthesized (1) or not-yet-synthesized/unlabeled (0)."
   ]
  },
  {
   "cell_type": "code",
   "execution_count": null,
   "metadata": {},
   "outputs": [],
   "source": [
    "df = pd.read_json('test_files/MAX_dataset.json')  # Data must be in json format\n",
    "\n",
    "df2 = pd.read_json('test_files/MX_dataset.json')\n",
    "df.head()"
   ]
  },
  {
   "cell_type": "markdown",
   "metadata": {},
   "source": [
    "### Do k-fold cross validation with bagged decision tree base classifiers.\n",
    "Run PU learning on a sample data set. n_repeats and n_bags should be large values for production runs. Here we use small values so the example runs quickly."
   ]
  },
  {
   "cell_type": "code",
   "execution_count": null,
   "metadata": {},
   "outputs": [],
   "source": [
    "from pumml.learners import PULearner"
   ]
  },
  {
   "cell_type": "code",
   "execution_count": null,
   "metadata": {},
   "outputs": [],
   "source": [
    "pul = PULearner()\n",
    "n_splits = 10  # Between 2 and number of positive samples; 10 is a reasonable choice\n",
    "n_repeats = 5  # Repeat the entire training multiple times for averaging\n",
    "n_bags = 100  # Number of bags for bootstrap aggregating; at least 100 recommended\n",
    "\n",
    "pu_stats_max = pul.cv_baggingDT('test_files/MAX_dataset.json', splits=n_splits, repeats=n_repeats, bags=n_bags)"
   ]
  },
  {
   "cell_type": "markdown",
   "metadata": {},
   "source": [
    "### Get the synthesizability predictions from PU learning.\n",
    "\"Synthesizability scores\" (a number between 0 and 1) indicate the aggregated PU learning model prediction of how \"synthesizable\" a material is. We say that a material is \"likely synthesizable\" if the synth_score > 0.5 and \"not likely synthesizable\" if the synth_score < 0.5."
   ]
  },
  {
   "cell_type": "code",
   "execution_count": null,
   "metadata": {},
   "outputs": [],
   "source": [
    "df1 = pul.df_U.copy()  # get a copy of the dataframe of nlabeled samples\n",
    "df1['synth_score'] = pu_stats_max['prob']  # pu_stats['prob'] stores the synthesizability score of the unlabeled samples\n",
    "df1.head()"
   ]
  },
  {
   "cell_type": "markdown",
   "metadata": {},
   "source": [
    "### Compare PU learning synthesizability predictions for \"parent\" bulk materials and \"child\" 2D materials.\n",
    "After running the PU analysis on data sets of \"parent\" and \"child\" materials, we use clustering algorithms like k-means to identify clusters of synthesizable (parent, child) pairs. For example, we might want to know if there is an unlabeled parent bulk crystal that is highly synthesizable **and** it can be exfoliated into a not-yet-synthesized child 2D phase with an independently high synthesizability."
   ]
  },
  {
   "cell_type": "code",
   "execution_count": null,
   "metadata": {},
   "outputs": [],
   "source": [
    "# Run PU learning on the \"child\" data\n",
    "pu_stats_mx = pul.cv_baggingDT('test_files/MX_dataset.json', splits=n_splits, repeats=n_repeats, bags=n_bags)\n",
    "df2 = pul.df_U.copy()\n",
    "df2['synth_score'] = pu_stats_mx['prob']"
   ]
  },
  {
   "cell_type": "code",
   "execution_count": null,
   "metadata": {},
   "outputs": [],
   "source": [
    "from pumml.learners import PUInteract"
   ]
  },
  {
   "cell_type": "code",
   "execution_count": null,
   "metadata": {},
   "outputs": [],
   "source": [
    "merge = ('M', 'X', 'n')  # Specify a column or tuple of columns that link (parent, child) pairs\n",
    "feats = ('a', 'E_form', 'E_coh', 'synth_score')  # a tuple of column names of features to consider in clustering\n",
    "\n",
    "# We pass the original data and the results from PU learning\n",
    "pui = PUInteract('test_files/MAX_dataset.json', pu_stats_max, 'test_files/MX_dataset.json', pu_stats_mx, merge_on=merge, feats=feats)"
   ]
  },
  {
   "cell_type": "code",
   "execution_count": null,
   "metadata": {},
   "outputs": [],
   "source": [
    "df = pui.merged_df\n",
    "kmeans_output = pui.do_kmeans(n_clusters=2)  # Run k-means clustering with 2 clusters\n",
    "df['kmeans_labels'] = kmeans_output['cluster_labels']\n",
    "df['kmeans_labels'].value_counts()"
   ]
  },
  {
   "cell_type": "markdown",
   "metadata": {},
   "source": [
    "### Clustering\n",
    "k-means, Gaussian mixture models, and Bayesian Gaussian mixture models can be used to predict labels for the (parent, child) pairs. With some fine-tuning, these models can cluster the samples into \"high synthesizability\" and \"low synthesizablity\" clusters. Analyzing the distributions of features within the two clusters may be illuminating."
   ]
  },
  {
   "cell_type": "code",
   "execution_count": null,
   "metadata": {},
   "outputs": [],
   "source": [
    "gmm_output = pui.do_gmixture(n_components=2)  # Gaussian mixture model\n",
    "df['gmm_labels'] = gmm_output['gmm_labels']\n",
    "bgm_output = pui.do_bgm(n_components=6)  # Bayesian gaussian mixture\n",
    "df['bgm_labels'] = bgm_output['bgm_labels']\n",
    "print(df['gmm_labels'].value_counts())\n",
    "print(df['bgm_labels'].value_counts())"
   ]
  }
 ],
 "metadata": {
  "kernelspec": {
   "display_name": "Python [conda env:pumml_env]",
   "language": "python",
   "name": "conda-env-pumml_env-py"
  },
  "language_info": {
   "codemirror_mode": {
    "name": "ipython",
    "version": 3
   },
   "file_extension": ".py",
   "mimetype": "text/x-python",
   "name": "python",
   "nbconvert_exporter": "python",
   "pygments_lexer": "ipython3",
   "version": "3.6.11"
  }
 },
 "nbformat": 4,
 "nbformat_minor": 4
}
