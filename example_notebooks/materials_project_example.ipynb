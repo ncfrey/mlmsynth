{
 "cells": [
  {
   "cell_type": "markdown",
   "metadata": {},
   "source": [
    "## Predicting synthesizability of arbitrary crystal structures and compositions\n",
    "This notebook shows how to:\n",
    "* Access material structures from the Materials Project (MP) using the Materials API (MAPI) or figshare.  \n",
    "* Use pre-trained models to predict synthesizability of materials from either 1) Materials Project ID; 2) crystal composition; or 3) crystal structure.\n",
    "\n",
    "You will need a [Materials Project API key](https://materialsproject.org/open) to use the features shown in this notebook."
   ]
  },
  {
   "cell_type": "code",
   "execution_count": null,
   "metadata": {},
   "outputs": [],
   "source": [
    "%load_ext autoreload\n",
    "%autoreload 2"
   ]
  },
  {
   "cell_type": "code",
   "execution_count": 1,
   "metadata": {},
   "outputs": [],
   "source": [
    "import pandas as pd\n",
    "import numpy as np\n",
    "from datetime import datetime\n",
    "\n",
    "from monty.serialization import loadfn, dumpfn\n",
    "\n",
    "from pymatgen.ext.matproj import MPRester\n",
    "from pymatgen.core import Structure, Lattice\n",
    "\n",
    "from pumml.pupredict import PUPredict"
   ]
  },
  {
   "cell_type": "markdown",
   "metadata": {},
   "source": [
    "### Accessing MP data"
   ]
  },
  {
   "cell_type": "markdown",
   "metadata": {},
   "source": [
    "You can access all MP structures (as of 04-24-2020) directly from figshare: https://figshare.com/account/home#/collections/4952793.  \n",
    "\n",
    "However, the MP is constantly being updated and new structures are added. It is highly recommended that you use the MAPI to pull structure data that you are interested in. Get an API key for the Materials Project [here](https://materialsproject.org/open).\n",
    "\n",
    "This code shows how to apply some criteria (e.g., ignore compounds with f-block elements), get MP IDs (which does not take much time), and then download structures in chunks (time-consuming)."
   ]
  },
  {
   "cell_type": "code",
   "execution_count": null,
   "metadata": {},
   "outputs": [],
   "source": [
    "# Treat materials with f-block electrons separately.\n",
    "fblock = ['Ce', 'Pr', 'Nd', 'Pm', 'Sm', 'Eu', 'Gd', 'Tb', 'Dy', 'Ho', 'Er', \n",
    "         'Tm', 'Yb', 'Lu', 'Th', 'Pa', 'U', 'Np', 'Pu', 'Am', 'Cm', 'Bk',\n",
    "         'Cf', 'Es', 'Fm', 'Md', 'No', 'Lr']\n",
    "\n",
    "criteria = {\"elements\": {\"$nin\": fblock}}  # exclude fblock"
   ]
  },
  {
   "cell_type": "code",
   "execution_count": null,
   "metadata": {},
   "outputs": [],
   "source": [
    "# https://wiki.materialsproject.org/The_Materials_API\n",
    "mpids = []\n",
    "with MPRester() as m:  # include api key as argument or configure with pmg command line \n",
    "    mp_ids = m.query(criteria, [\"material_id\"], chunk_size=0)"
   ]
  },
  {
   "cell_type": "code",
   "execution_count": null,
   "metadata": {},
   "outputs": [],
   "source": [
    "# Tag with date collected\n",
    "today = datetime.today().strftime('%Y-%m-%d')\n",
    "\n",
    "mp_ids = [mpid['material_id'] for mpid in mp_ids]\n",
    "dumpfn(mp_ids, \"mp_ids_%s.json\" % (today))"
   ]
  },
  {
   "cell_type": "code",
   "execution_count": null,
   "metadata": {},
   "outputs": [],
   "source": [
    "mp_ids = loadfn('mp_ids_%s.json' %(today))"
   ]
  },
  {
   "cell_type": "markdown",
   "metadata": {},
   "source": [
    "The sublists contain MP IDs in chunks of 1000."
   ]
  },
  {
   "cell_type": "code",
   "execution_count": null,
   "metadata": {},
   "outputs": [],
   "source": [
    "chunk_size = 1000\n",
    "sublists = [mp_ids[i:i+chunk_size] for i in range(0, len(mp_ids), chunk_size)]\n",
    "\n",
    "# MPRester.supported_properties\n",
    "properties = ['energy_per_atom', 'formation_energy_per_atom',\n",
    "              'e_above_hull', 'icsd_ids',\n",
    "             'material_id', 'structure']\n",
    "\n",
    "data = []\n",
    "# Get all materials from MP by mpid\n",
    "with MPRester() as m:  # use api_key arg or set up with pmg command line tool\n",
    "    for sublist in sublists:\n",
    "        data += m.query({\"material_id\":{\"$in\": sublist}}, properties=properties)"
   ]
  },
  {
   "cell_type": "code",
   "execution_count": null,
   "metadata": {},
   "outputs": [],
   "source": [
    "dumpfn(data, \"mp_fblock_%s.json\" % (today))"
   ]
  },
  {
   "cell_type": "markdown",
   "metadata": {},
   "source": [
    "### Access a small sample dataset\n",
    "We want to be responsible users of the MAPI, so to test out pumml models we can work with small MP datasets that are already downloaded.\n",
    "You can ownload a small example dataset of 500 structures [here](https://figshare.com/articles/500_example_structures_from_Materials_Project/12252962)."
   ]
  },
  {
   "cell_type": "code",
   "execution_count": null,
   "metadata": {},
   "outputs": [],
   "source": [
    "data = loadfn('mp_example_dataset_042420.json')  # json file must be in same directory as this notebook"
   ]
  },
  {
   "cell_type": "markdown",
   "metadata": {},
   "source": [
    "Materials Project data is a really useful source for training models, but what if we are interested in the synthesizability of a particular theoretical compound? We have pre-trained PUMML models on large subsets of the Materials Project to enable quick predictions."
   ]
  },
  {
   "cell_type": "markdown",
   "metadata": {},
   "source": [
    "### Predict synthesizability of theoretical compounds from MP IDs\n",
    "We can use the `pumml.pupredict.PUPredict` class to generate synthesizability scores directly for compounds from the Materials Project. Information related to the predictions and Materials Project API access is logged to a file called `output.log`. When you create an instance of `PUPredict`, the pre-trained models and data will be downloaded to your local machine."
   ]
  },
  {
   "cell_type": "code",
   "execution_count": 2,
   "metadata": {},
   "outputs": [],
   "source": [
    "api_key = '<api_key>'  # fill this in with your key\n",
    "pup = PUPredict(api_key)"
   ]
  },
  {
   "cell_type": "code",
   "execution_count": 3,
   "metadata": {},
   "outputs": [
    {
     "name": "stdout",
     "output_type": "stream",
     "text": [
      "[array([0.37218361])]\n",
      "[array([0.49403711])]\n"
     ]
    }
   ],
   "source": [
    "print(pup.synth_score_from_mpid('mp-1213718')) # theoretical Cs2TbO3\n",
    "print(pup.synth_score_from_mpid('mp-771359'))  # theoretical Cu2O3"
   ]
  },
  {
   "cell_type": "markdown",
   "metadata": {},
   "source": [
    "The outputs represent the synthesizability scores of the theoretical compounds."
   ]
  },
  {
   "cell_type": "markdown",
   "metadata": {},
   "source": [
    "### Predict synthesizability by chemical formula\n",
    "We can also predict synthesizability for a crystal composition. If there are multiple crystal structures with the same composition, synthesizability scores for each will be predicted."
   ]
  },
  {
   "cell_type": "code",
   "execution_count": 4,
   "metadata": {},
   "outputs": [
    {
     "data": {
      "text/plain": [
       "[array([0.04694946]), array([0.04952542])]"
      ]
     },
     "execution_count": 4,
     "metadata": {},
     "output_type": "execute_result"
    }
   ],
   "source": [
    "pup.synth_score_from_formula('Ba2Yb2Al4Si2N10O4')"
   ]
  },
  {
   "cell_type": "code",
   "execution_count": 5,
   "metadata": {},
   "outputs": [
    {
     "data": {
      "text/plain": [
       "'No such compound exists in Materials Project Database'"
      ]
     },
     "execution_count": 5,
     "metadata": {},
     "output_type": "execute_result"
    }
   ],
   "source": [
    "pup.synth_score_from_formula('Na1Mg1')"
   ]
  },
  {
   "cell_type": "markdown",
   "metadata": {},
   "source": [
    "### Predict synthesizability by crystal structure\n",
    "Finally, we can predict synthesizability for a crystal structure represented as a `pymatgen.structure` object."
   ]
  },
  {
   "cell_type": "code",
   "execution_count": 6,
   "metadata": {},
   "outputs": [],
   "source": [
    "bcc_fe = Structure(Lattice.cubic(2.8), [\"Fe\", \"Fe\"], [[0, 0, 0], [0.5, 0.5, 0.5]])"
   ]
  },
  {
   "cell_type": "code",
   "execution_count": 7,
   "metadata": {},
   "outputs": [],
   "source": [
    "pup.synth_score_from_structure(bcc_fe)"
   ]
  },
  {
   "cell_type": "markdown",
   "metadata": {},
   "source": [
    "No synthesizability prediction is returned! If we check the log, we see that all MP entries for Fe already exist, so there's no need to predict synthesizability."
   ]
  },
  {
   "cell_type": "code",
   "execution_count": 8,
   "metadata": {},
   "outputs": [
    {
     "name": "stdout",
     "output_type": "stream",
     "text": [
      "INFO - The given input with material_id \"mp-1271295\" exists.\n",
      "INFO - The given input with material_id \"mp-136\" exists.\n"
     ]
    }
   ],
   "source": [
    "!tail output.log -n2"
   ]
  }
 ],
 "metadata": {
  "kernelspec": {
   "display_name": "Python [conda env:pumml_env]",
   "language": "python",
   "name": "conda-env-pumml_env-py"
  },
  "language_info": {
   "codemirror_mode": {
    "name": "ipython",
    "version": 3
   },
   "file_extension": ".py",
   "mimetype": "text/x-python",
   "name": "python",
   "nbconvert_exporter": "python",
   "pygments_lexer": "ipython3",
   "version": "3.6.11"
  }
 },
 "nbformat": 4,
 "nbformat_minor": 4
}
